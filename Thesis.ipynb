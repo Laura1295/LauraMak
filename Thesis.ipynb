{
  "nbformat": 4,
  "nbformat_minor": 0,
  "metadata": {
    "colab": {
      "name": "Thesis.ipynb",
      "provenance": [],
      "collapsed_sections": [],
      "toc_visible": true
    },
    "kernelspec": {
      "name": "python3",
      "display_name": "Python 3"
    },
    "accelerator": "GPU"
  },
  "cells": [
    {
      "cell_type": "markdown",
      "metadata": {
        "id": "94Bx-s-PhV02",
        "colab_type": "text"
      },
      "source": [
        "# Import libraries"
      ]
    },
    {
      "cell_type": "code",
      "metadata": {
        "id": "88LHmvcDfg96",
        "colab_type": "code",
        "colab": {
          "base_uri": "https://localhost:8080/",
          "height": 32
        },
        "outputId": "f461a710-842f-44a8-ed47-e5f0f0ccf922"
      },
      "source": [
        "from keras.layers import Input,Dense,Flatten,Dropout,merge,Reshape,Conv2D,MaxPooling2D,UpSampling2D,Conv2DTranspose\n",
        "from keras.layers.normalization import BatchNormalization\n",
        "from keras.models import Model,Sequential\n",
        "    \n",
        "from keras.layers import Input, Conv2D, MaxPooling2D, UpSampling2D, Conv2D, Reshape, Conv2DTranspose\n",
        "from keras.layers import concatenate, BatchNormalization, Activation, add\n",
        "from keras.layers.core import Dropout, Activation\n",
        "from keras.layers.advanced_activations import RELU, LeakyReLU\n",
        "from keras.callbacks import ModelCheckpoint, CSVLogger, TensorBoard, LearningRateScheduler, ReduceLROnPlateau, EarlyStopping\n",
        "from keras.models import Model, model_from_json\n",
        "from keras.optimizers import Adadelta, RMSprop,SGD,Adam\n",
        "from keras.utils.vis_utils import plot_model\n",
        "from keras import regularizers\n",
        "from keras import backend as K\n",
        "\n",
        "import os\n",
        "import numpy as np\n",
        "import scipy.misc\n",
        "import numpy.random as rng\n",
        "from sklearn.utils import shuffle\n",
        "import nibabel as nib \n",
        "import math\n",
        "import glob\n",
        "import tensorflow as tf\n",
        "\n",
        "from skimage.transform import resize\n",
        "from pathlib import Path\n",
        "from matplotlib import pyplot as plt\n",
        "import random \n",
        "from scipy.ndimage import zoom\n",
        "\n",
        "%load_ext tensorboard\n",
        "import tensorflow as tf\n",
        "import datetime, os\n",
        "!rm -rf ./logs/ \n",
        "\n",
        "!pip install elasticdeform\n",
        "from scipy.ndimage.interpolation import shift\n",
        "from scipy.ndimage import rotate\n",
        "import imageio, elasticdeform"
      ],
      "execution_count": null,
      "outputs": [
        {
          "output_type": "stream",
          "text": [
            "Using TensorFlow backend.\n"
          ],
          "name": "stderr"
        }
      ]
    },
    {
      "cell_type": "markdown",
      "metadata": {
        "id": "SMdCNDNEhYq6",
        "colab_type": "text"
      },
      "source": [
        "# Process KiTS19 dataset"
      ]
    },
    {
      "cell_type": "code",
      "metadata": {
        "id": "5uSAsMagbt65",
        "colab_type": "code",
        "colab": {}
      },
      "source": [
        "# in order to replicate the results, provide path to KiTS19 dataset\n",
        "\n",
        "DATA_PATH = path_to_data"
      ],
      "execution_count": null,
      "outputs": []
    },
    {
      "cell_type": "markdown",
      "metadata": {
        "id": "Z4uwdHlvqiK2",
        "colab_type": "text"
      },
      "source": [
        "## Imaging - Experiment 1"
      ]
    },
    {
      "cell_type": "code",
      "metadata": {
        "id": "oUbnyLGCLbzn",
        "colab_type": "code",
        "colab": {}
      },
      "source": [
        "  for i in range(0,210):\n",
        "    ct_path = DATA_PATH + \"/case_{:05d}/\".format(i)+\"imaging.nii.gz\"\n",
        "    ct = nib.load(ct_path)\n",
        "    ct = np.array(ct.dataobj)\n",
        "    # Resize    \n",
        "    ct = resize(ct, output_shape=[ct.shape[0],128,128], preserve_range=True, anti_aliasing=True)\n",
        "    # Save\n",
        "    print(\"Saving case_{:05d}\".format(i))\n",
        "    np.save(DATA_PATH + \"/Experiment_1/imaging/case_{:05d}\".format(i), ct)"
      ],
      "execution_count": null,
      "outputs": []
    },
    {
      "cell_type": "markdown",
      "metadata": {
        "id": "-M2TVz9Hqd_i",
        "colab_type": "text"
      },
      "source": [
        "## Segmentation"
      ]
    },
    {
      "cell_type": "code",
      "metadata": {
        "id": "EZqrKafjneny",
        "colab_type": "code",
        "colab": {}
      },
      "source": [
        "for i in range(0,210):\n",
        "    seg_path = DATA_PATH + \"/case_{:05d}/\".format(i)+\"segmentation.nii.gz\"\n",
        "    seg = nib.load(seg_path)\n",
        "    seg = np.array(seg.dataobj)\n",
        "    # Resize\n",
        "    seg = resize(seg, output_shape=[seg.shape[0],128,128], preserve_range=True, anti_aliasing=True)\n",
        "    # Round\n",
        "    seg_round = np.round(seg)\n",
        "    # Binarize to tumor and kidney\n",
        "    seg_binary = np.where(seg_round==2, 1, seg_round)\n",
        "    # Save\n",
        "    print(\"Saving case_{:05d}/\".format(i)+\"segmentation\")\n",
        "    np.save(DATA_PATH + \"/Experiment_1/segmentation/case_{:05d}\".format(i), seg_binary)\n",
        "    np.histogram(seg_binary)"
      ],
      "execution_count": null,
      "outputs": []
    },
    {
      "cell_type": "markdown",
      "metadata": {
        "id": "mc3JFj1dquvc",
        "colab_type": "text"
      },
      "source": [
        "## Imaging - Experiment 2"
      ]
    },
    {
      "cell_type": "code",
      "metadata": {
        "id": "enPk_gwrIeK7",
        "colab_type": "code",
        "colab": {}
      },
      "source": [
        "  for i in range(0,210):\n",
        "    ct_path = DATA_PATH + \"/case_{:05d}/\".format(i)+\"imaging.nii.gz\"\n",
        "    ct = nib.load(ct_path)\n",
        "    ct = np.array(ct.dataobj)\n",
        "    # Resize    \n",
        "    ct = resize(ct, output_shape=[ct.shape[0],128,128], preserve_range=True, anti_aliasing=True)\n",
        "    # Clip scan\n",
        "    ct = np.clip(ct, -200, 500)\n",
        "    # Save\n",
        "    print(\"Saving case_{:05d}\".format(i))\n",
        "    np.save(DATA_PATH + \"/Experiment_2/imaging/case_{:05d}\".format(i), ct)"
      ],
      "execution_count": null,
      "outputs": []
    },
    {
      "cell_type": "markdown",
      "metadata": {
        "id": "k8aakX3tIxD1",
        "colab_type": "text"
      },
      "source": [
        "# Imaging - Experiment 3"
      ]
    },
    {
      "cell_type": "code",
      "metadata": {
        "id": "O-NwpywiI1Bw",
        "colab_type": "code",
        "colab": {}
      },
      "source": [
        "  for i in range(0,210):\n",
        "    ct_clip = np.load(DATA_PATH + \"/Experiment_2/imaging/case_{:05d}.npy\".format(i))\n",
        "    # Normalize\n",
        "    max_value = np.max(ct_clip)\n",
        "    min_value = np.min(ct_clip)\n",
        "    ct_norm = (ct_clip - min_value) / (max_value - min_value)\n",
        "    # Save\n",
        "    print(\"Saving case_{:05d}\".format(i))\n",
        "    np.save(DATA_PATH + \"/Experiment_3/imaging/case_{:05d}\".format(i), ct_norm)"
      ],
      "execution_count": null,
      "outputs": []
    },
    {
      "cell_type": "markdown",
      "metadata": {
        "id": "sG65YjEiWQeE",
        "colab_type": "text"
      },
      "source": [
        "# Imaging - Experiment 4"
      ]
    },
    {
      "cell_type": "code",
      "metadata": {
        "id": "7hnl-JMRQS7o",
        "colab_type": "code",
        "colab": {}
      },
      "source": [
        "# Create list of random samples to apply augmentations to\n",
        "augList =  np.random.randint(low=0, high=13533, size=4000)"
      ],
      "execution_count": null,
      "outputs": []
    },
    {
      "cell_type": "code",
      "metadata": {
        "id": "ff9UNVcbSKel",
        "colab_type": "code",
        "colab": {}
      },
      "source": [
        "data_path = SAVE_PATH #path to which save to augmented data"
      ],
      "execution_count": null,
      "outputs": []
    },
    {
      "cell_type": "code",
      "metadata": {
        "id": "ufZ4NryzEyE0",
        "colab_type": "code",
        "colab": {}
      },
      "source": [
        "# Load data arrays from drive - Experiment 4   (data from experiment 2)\n",
        "x_train = np.load(DATA_PATH + '/Experiment_2/data_arrays/x_train.npy')\n",
        "y_train = np.load(DATA_PATH + '/Experiment_1/data_arrays/y_train.npy')"
      ],
      "execution_count": null,
      "outputs": []
    },
    {
      "cell_type": "code",
      "metadata": {
        "id": "oA-tkV0RIAOb",
        "colab_type": "code",
        "colab": {}
      },
      "source": [
        "# Function to perform elastic deformations\n",
        "def deform_data(x_data, y_data, augList):\n",
        "  x_deform_list = []\n",
        "  y_deform_list = []\n",
        "  for i in augList:\n",
        "    [X_deformed, Y_deformed] = elasticdeform.deform_random_grid([x_train[i,:,:,-1], y_train[i,:,:,-1]],sigma=3, points=4, prefilter=True, mode='nearest', order=[0, 0])\n",
        "    x_deform_list.append(X_deformed)\n",
        "    y_deform_list.append(Y_deformed)\n",
        "  x_deformed_data = np.asarray(x_deform_list)\n",
        "  y_deformed_data = np.asarray(y_deform_list)\n",
        "  x_deformed_data = x_deformed_data.reshape((x_deformed_data.shape[0],x_deformed_data.shape[1], x_deformed_data.shape[2],1))\n",
        "  y_deformed_data = y_deformed_data.reshape((y_deformed_data.shape[0],y_deformed_data.shape[1], y_deformed_data.shape[2],1))\n",
        "  np.save(data_path+'x_deform', x_deformed_data)\n",
        "  np.save(data_path+'y_deform', y_deformed_data)\n",
        "  return None"
      ],
      "execution_count": null,
      "outputs": []
    },
    {
      "cell_type": "code",
      "metadata": {
        "id": "pAWKpQcQsG8m",
        "colab_type": "code",
        "colab": {}
      },
      "source": [
        "np.save(data_path+'y_shift', y_shift)\n",
        "np.save(data_path+'x_shift', x_shift)"
      ],
      "execution_count": null,
      "outputs": []
    },
    {
      "cell_type": "code",
      "metadata": {
        "id": "zRm5njOos1PT",
        "colab_type": "code",
        "colab": {}
      },
      "source": [
        "# Function to perform rotations\n",
        "def rotate_data(data, augList, file_name):\n",
        "  rotate_list = []\n",
        "  for i in augList:\n",
        "    rot = rotate(data[i,:,:,-1], angle=10, order = 0, mode = 'nearest', reshape=False, prefilter=True)\n",
        "    rotate_list.append(rot)\n",
        "  rotated_data = np.asarray(rotate_list)\n",
        "  rotated_data = rotated_data.reshape((rotated_data.shape[0],rotated_data.shape[1], rotated_data.shape[2],1))\n",
        "  return np.save(data_path+ file_name, rotated_data)"
      ],
      "execution_count": null,
      "outputs": []
    },
    {
      "cell_type": "code",
      "metadata": {
        "id": "S_lCH7y8syIB",
        "colab_type": "code",
        "colab": {}
      },
      "source": [
        "def flip_data(data, augList, file_name):\n",
        "  flip_list = []\n",
        "  for i in augList:\n",
        "    flip = np.flip(data[i,:,:,-1], axis=1)\n",
        "    flip_list.append(flip)\n",
        "  flipped_data = np.asarray(flip_list)\n",
        "  flipped_data = flipped_data.reshape((flipped_data.shape[0],flipped_data.shape[1], flipped_data.shape[2],1))\n",
        "  return np.save(data_path+ file_name, flipped_data)"
      ],
      "execution_count": null,
      "outputs": []
    },
    {
      "cell_type": "code",
      "metadata": {
        "id": "4x0mECtrLDXL",
        "colab_type": "code",
        "colab": {}
      },
      "source": [
        "# Function to perform translations\n",
        "def shift_data(x_data, y_data, augList, step):\n",
        "  x_list = []\n",
        "  y_list=[]\n",
        "  for i in augList:\n",
        "    img_shift = shift(x_data[i,:,:,-1], (step), order=0, mode='nearest', cval=0.0, prefilter=True)\n",
        "    seg_shift = shift(y_data[i,:,:,-1], (step), order=0, mode='nearest', cval=0.0, prefilter=True)\n",
        "    x_list.append(img_shift)\n",
        "    y_list.append(seg_shift)\n",
        "  x_data = np.asarray(x_list)\n",
        "  y_data = np.asarray(y_list)\n",
        "  x_data = x_data.reshape((x_data.shape[0],x_data.shape[1], x_data.shape[2],1))\n",
        "  y_data = y_data.reshape((y_data.shape[0],y_data.shape[1], y_data.shape[2],1))\n",
        "  np.save(data_path+'x_shift_'+str(step), x_data)\n",
        "  np.save(data_path+'y_shift_'+str(step), y_data)\n",
        "  return None"
      ],
      "execution_count": null,
      "outputs": []
    },
    {
      "cell_type": "code",
      "metadata": {
        "id": "X5HJZWoOlSdZ",
        "colab_type": "code",
        "colab": {}
      },
      "source": [
        "rotate_data(x_train, augList[0:1000], 'x_rot')\n",
        "rotate_data(y_train, augList[0:1000], 'y_rot')"
      ],
      "execution_count": null,
      "outputs": []
    },
    {
      "cell_type": "code",
      "metadata": {
        "id": "mh9Rgs3QLIeE",
        "colab_type": "code",
        "colab": {}
      },
      "source": [
        "deform_data(x_train, y_train, augList[1000:2000])"
      ],
      "execution_count": null,
      "outputs": []
    },
    {
      "cell_type": "code",
      "metadata": {
        "id": "6APVH-aotKnq",
        "colab_type": "code",
        "colab": {}
      },
      "source": [
        "flip_data(y_train, augList[2000:3000], 'y_flip')\n",
        "flip_data(x_train,augList[2000:3000], 'x_flip')"
      ],
      "execution_count": null,
      "outputs": []
    },
    {
      "cell_type": "code",
      "metadata": {
        "id": "fY3RCdzAKfw0",
        "colab_type": "code",
        "colab": {}
      },
      "source": [
        "shift_data(x_train, y_train, augList[3000:3250], (15,-15))\n",
        "shift_data(x_train, y_train, augList[3250:3500] , (-15, 15))\n",
        "shift_data(x_train, y_train, augList[3500:3750], (5, -20))\n",
        "shift_data(x_train, y_train, augList[3750:4000], (-20, 5))"
      ],
      "execution_count": null,
      "outputs": []
    },
    {
      "cell_type": "code",
      "metadata": {
        "id": "VPXNHCpSK_xS",
        "colab_type": "code",
        "colab": {}
      },
      "source": [
        "y_shift_1 = np.load(data_path+'y_shift_(15, -15).npy')\n",
        "y_shift_2 = np.load(data_path+'y_shift_(-15, 15).npy')\n",
        "y_shift_3 = np.load(data_path+'y_shift_(5, -20).npy')\n",
        "y_shift_4 = np.load(data_path+'y_shift_(-20, 5).npy')\n",
        "\n",
        "y_shift = np.concatenate((y_shift_1,y_shift_3,y_shift_2,y_shift_4), axis=0)\n",
        "np.save(data_path+'y_shift')\n",
        "\n",
        "x_shift_1 = np.load(data_path+'x_shift_(15, -15).npy')\n",
        "x_shift_2 = np.load(data_path+'x_shift_(-15, 15).npy')\n",
        "x_shift_3 = np.load(data_path+'x_shift_(5, -20).npy')\n",
        "x_shift_4 = np.load(data_path+'x_shift_(-20, 5).npy')\n",
        "\n",
        "x_shift = np.concatenate((x_shift_1,x_shift_3,x_shift_2,x_shift_4), axis=0)\n",
        "np.save(data_path+'x_shift')"
      ],
      "execution_count": null,
      "outputs": []
    },
    {
      "cell_type": "markdown",
      "metadata": {
        "id": "fuDFnEi3aBlA",
        "colab_type": "text"
      },
      "source": [
        "# Define metric"
      ]
    },
    {
      "cell_type": "code",
      "metadata": {
        "id": "__2HM0T7sLXC",
        "colab_type": "code",
        "colab": {}
      },
      "source": [
        "def dice_coef(y_true, y_pred):\n",
        "    y_true_f = K.flatten(y_true)\n",
        "    y_pred_f = K.flatten(y_pred)\n",
        "    intersection = K.sum(y_true_f * y_pred_f)\n",
        "    coef = (2. * intersection + K.epsilon()) / (K.sum(y_true_f) + K.sum(y_pred_f) + K.epsilon())\n",
        "    return coef"
      ],
      "execution_count": null,
      "outputs": []
    },
    {
      "cell_type": "markdown",
      "metadata": {
        "id": "XlJflez8o7PJ",
        "colab_type": "text"
      },
      "source": [
        "## Custom metric"
      ]
    },
    {
      "cell_type": "code",
      "metadata": {
        "id": "69qxvPy0WQLL",
        "colab_type": "code",
        "colab": {}
      },
      "source": [
        "def dice_coef_test(y_true, y_pred):\n",
        "    y_true_f = y_true.flatten()\n",
        "    y_pred_f = y_pred.flatten()\n",
        "    union = np.sum(y_true_f) + np.sum(y_pred_f)\n",
        "    intersection = np.sum(y_true_f * y_pred_f)\n",
        "    return (2. * intersection) / union"
      ],
      "execution_count": null,
      "outputs": []
    },
    {
      "cell_type": "code",
      "metadata": {
        "id": "HGur-Aah26LE",
        "colab_type": "code",
        "colab": {}
      },
      "source": [
        "def create_weighted_binary_crossentropy(y_true, y_pred,zero_weight=0.011967271918916875, one_weight=0.9880327280810831):\n",
        "  def weighted_binary_crossentropy(y_true, y_pred):\n",
        "    b_ce = K.binary_crossentropy(y_true, y_pred)\n",
        "    weight_vector = y_true * one_weight + (1. - y_true) * zero_weight\n",
        "    weighted_b_ce = weight_vector * b_ce\n",
        "    return K.mean(weighted_b_ce)\n",
        "    \n",
        "  def dice_coef_loss(y_true, y_pred):\n",
        "    return 1-dice_coef(y_true, y_pred)\n",
        "\n",
        "  return weighted_binary_crossentropy(y_true, y_pred) + dice_coef_loss(y_true, y_pred)\n"
      ],
      "execution_count": null,
      "outputs": []
    },
    {
      "cell_type": "markdown",
      "metadata": {
        "id": "oa6956nyqA3N",
        "colab_type": "text"
      },
      "source": [
        "# Build models"
      ]
    },
    {
      "cell_type": "code",
      "metadata": {
        "id": "hH4nzHnMMAMo",
        "colab_type": "code",
        "colab": {}
      },
      "source": [
        "def conv2d_bn(x, filters, num_row, num_col, padding='same', strides=(1, 1), activation='relu', name=None):\n",
        "    x = Conv2D(filters, (num_row, num_col), strides=strides, padding=padding, use_bias=False)(x)\n",
        "    x = BatchNormalization(axis=3, scale=False)(x)\n",
        "\n",
        "    if(activation == None):\n",
        "        return x\n",
        "\n",
        "    x = Activation(activation, name=name)(x)\n",
        "\n",
        "    return x\n",
        "\n",
        "\n",
        "def trans_conv2d_bn(x, filters, num_row, num_col, padding='same', strides=(2, 2), name=None):\n",
        "    x = Conv2DTranspose(filters, (num_row, num_col), strides=strides, padding=padding)(x)\n",
        "    x = BatchNormalization(axis=3, scale=False)(x)\n",
        "    \n",
        "    return x\n",
        "\n",
        "\n",
        "def MultiResBlock(U, inp, alpha = 1.67):\n",
        "    W = alpha * U\n",
        "\n",
        "    shortcut = inp\n",
        "    \n",
        "    shortcut = conv2d_bn(shortcut, int(W*0.167) + int(W*0.333) +\n",
        "                         int(W*0.5), 1, 1, activation=None, padding='same')\n",
        "\n",
        "    conv3x3 = conv2d_bn(inp, int(W*0.167), 3, 3,\n",
        "                        activation='relu', padding='same')\n",
        "    \n",
        "    conv5x5 = conv2d_bn(conv3x3, int(W*0.333), 3, 3,\n",
        "                        activation='relu', padding='same')\n",
        "\n",
        "    conv7x7 = conv2d_bn(conv5x5, int(W*0.5), 3, 3,\n",
        "                        activation='relu', padding='same')\n",
        "\n",
        "    out = concatenate([conv3x3, conv5x5, conv7x7], axis=3)\n",
        "    out = BatchNormalization(axis=3)(out)\n",
        "\n",
        "    out = add([shortcut, out])\n",
        "    out = Activation('relu')(out)\n",
        "    out = BatchNormalization(axis=3)(out)\n",
        "\n",
        "    return out\n",
        "\n",
        "\n",
        "def ResPath(filters, length, inp):\n",
        "    shortcut = inp\n",
        "    shortcut = conv2d_bn(shortcut, filters, 1, 1,\n",
        "                         activation=None, padding='same')\n",
        "\n",
        "    out = conv2d_bn(inp, filters, 3, 3, activation='relu', padding='same')\n",
        "\n",
        "    out = add([shortcut, out])\n",
        "    out = Activation('relu')(out)\n",
        "    out = BatchNormalization(axis=3)(out)\n",
        "\n",
        "    for i in range(length-1):\n",
        "\n",
        "        shortcut = out\n",
        "        shortcut = conv2d_bn(shortcut, filters, 1, 1,\n",
        "                             activation=None, padding='same')\n",
        "\n",
        "        out = conv2d_bn(out, filters, 3, 3, activation='relu', padding='same')\n",
        "\n",
        "        out = add([shortcut, out])\n",
        "        out = Activation('relu')(out)\n",
        "        out = BatchNormalization(axis=3)(out)\n",
        "\n",
        "    return out\n",
        "\n",
        "\n",
        "def MultiResUnet(height, width, n_channels):\n",
        "    inputs = Input((height, width, n_channels))\n",
        "\n",
        "    mresblock1 = MultiResBlock(32, inputs)\n",
        "    pool1 = MaxPooling2D(pool_size=(2, 2))(mresblock1)\n",
        "    mresblock1 = ResPath(32, 4, mresblock1)\n",
        "\n",
        "    mresblock2 = MultiResBlock(32*2, pool1)\n",
        "    pool2 = MaxPooling2D(pool_size=(2, 2))(mresblock2)\n",
        "    mresblock2 = ResPath(32*2, 3, mresblock2)\n",
        "\n",
        "    mresblock3 = MultiResBlock(32*4, pool2)\n",
        "    pool3 = MaxPooling2D(pool_size=(2, 2))(mresblock3)\n",
        "    mresblock3 = ResPath(32*4, 2, mresblock3)\n",
        "\n",
        "    mresblock4 = MultiResBlock(32*8, pool3)\n",
        "    pool4 = MaxPooling2D(pool_size=(2, 2))(mresblock4)\n",
        "    mresblock4 = ResPath(32*8, 1, mresblock4)\n",
        "\n",
        "    mresblock5 = MultiResBlock(32*16, pool4)\n",
        "\n",
        "    up6 = concatenate([Conv2DTranspose(\n",
        "        32*8, (2, 2), strides=(2, 2), padding='same')(mresblock5), mresblock4], axis=3)\n",
        "    mresblock6 = MultiResBlock(32*8, up6)\n",
        "\n",
        "    up7 = concatenate([Conv2DTranspose(\n",
        "        32*4, (2, 2), strides=(2, 2), padding='same')(mresblock6), mresblock3], axis=3)\n",
        "    mresblock7 = MultiResBlock(32*4, up7)\n",
        "\n",
        "    up8 = concatenate([Conv2DTranspose(\n",
        "        32*2, (2, 2), strides=(2, 2), padding='same')(mresblock7), mresblock2], axis=3)\n",
        "    mresblock8 = MultiResBlock(32*2, up8)\n",
        "\n",
        "    up9 = concatenate([Conv2DTranspose(32, (2, 2), strides=(\n",
        "        2, 2), padding='same')(mresblock8), mresblock1], axis=3)\n",
        "    mresblock9 = MultiResBlock(32, up9)\n",
        "\n",
        "    conv10 = conv2d_bn(mresblock9,1 , 1, 1, activation='sigmoid')\n",
        "    \n",
        "    model = Model(inputs=[inputs], outputs=[conv10])\n",
        "\n",
        "    return model"
      ],
      "execution_count": null,
      "outputs": []
    },
    {
      "cell_type": "code",
      "metadata": {
        "id": "GgpxHh9lHg1x",
        "colab_type": "code",
        "colab": {}
      },
      "source": [
        "def build_unet(shape):\n",
        "\tinput_layer = Input(shape = shape)\n",
        "\n",
        "\tconv = Conv2D(16, (3, 3), activation = 'relu', padding = 'same')(input_layer)\n",
        "\tconv = Conv2D(16, (3, 3), activation = 'relu', padding = 'same')(conv)\n",
        "\tpool = MaxPooling2D(pool_size = (2, 2))(conv)\n",
        "\n",
        "\tconv1 = Conv2D(32, (3, 3), activation = 'relu', padding = 'same')(conv)\n",
        "\tconv1 = Conv2D(32, (3, 3), activation = 'relu', padding = 'same')(conv1)\n",
        "\tpool1 = MaxPooling2D(pool_size = (2, 2))(conv1)\n",
        "\n",
        "\tconv2 = Conv2D(64, (3, 3), activation = 'relu', padding = 'same')(pool1)\n",
        "\tconv2 = Conv2D(64, (3, 3), activation = 'relu', padding = 'same')(conv2)\n",
        "\tpool2 = MaxPooling2D(pool_size = (2, 2))(conv2)\n",
        "\n",
        "\tconv3 = Conv2D(128, (3, 3), activation = 'relu', padding = 'same')(pool2)\n",
        "\tconv3 = Conv2D(128, (3, 3), activation = 'relu', padding = 'same')(conv3)\n",
        "\tpool3 = MaxPooling2D(pool_size = (2, 2))(conv3)\n",
        "\n",
        "\tconv4 = Conv2D(256, (3, 3), activation = 'relu', padding = 'same')(pool3)\n",
        "\tconv4 = Conv2D(256, (3, 3), activation = 'relu', padding = 'same')(conv4)\n",
        "\tpool4 = MaxPooling2D(pool_size = (2, 2))(conv4)\n",
        "\n",
        "\tconv5 = Conv2D(512, (3, 3), activation = 'relu', padding = 'same')(pool4)\n",
        "\tconv5 = Conv2D(512, (3, 3), activation = 'relu', padding = 'same')(conv5)\n",
        "\n",
        "\tup6 = concatenate([Conv2DTranspose(256, (2, 2), strides = (2, 2), padding = 'same')(conv5), conv4], axis = 3)\n",
        "\tconv6 = Conv2D(256, (3, 3), activation = 'relu', padding = 'same')(up6)\n",
        "\tconv6 = Conv2D(256, (3, 3), activation = 'relu', padding = 'same')(conv6)\n",
        "\n",
        "\tup7 = concatenate([Conv2DTranspose(128, (2, 2), strides = (2, 2), padding = 'same')(conv6), conv3], axis = 3)\n",
        "\tconv7 = Conv2D(128, (3, 3), activation = 'relu', padding = 'same')(up7)\n",
        "\tconv7 = Conv2D(128, (3, 3), activation = 'relu', padding = 'same')(conv7)\n",
        "\n",
        "\tup8 = concatenate([Conv2DTranspose(64, (2, 2), strides = (2, 2), padding = 'same')(conv7), conv2], axis = 3)\n",
        "\tconv8 = Conv2D(64, (3, 3), activation = 'relu', padding = 'same')(up8)\n",
        "\tconv8 = Conv2D(64, (3, 3), activation = 'relu', padding = 'same')(conv8)\n",
        "\n",
        "\tup9 = concatenate([Conv2DTranspose(32, (2, 2), strides = (2, 2), padding = 'same')(conv8), conv1], axis = 3)\n",
        "\tconv9 = Conv2D(32, (3, 3), activation = 'relu', padding = 'same')(up9)\n",
        "\tconv9 = Conv2D(32, (3, 3), activation = 'relu', padding = 'same')(conv9)\n",
        "\n",
        "\tconv10 = Conv2D(16, (3, 3), activation = 'relu', padding = 'same')(conv9)\n",
        "\tconv10 = Conv2D(16, (3, 3), activation = 'relu', padding = 'same')(conv10)\n",
        "\n",
        "\tconv11 = Conv2D(1, (1, 1), activation = 'sigmoid')(conv10)\n",
        "\n",
        "\treturn Model(input_layer, conv11)"
      ],
      "execution_count": null,
      "outputs": []
    },
    {
      "cell_type": "markdown",
      "metadata": {
        "id": "z_z5iFXVs5Bk",
        "colab_type": "text"
      },
      "source": [
        "# Load data fom drive"
      ]
    },
    {
      "cell_type": "markdown",
      "metadata": {
        "id": "vMpvvvGErJks",
        "colab_type": "text"
      },
      "source": [
        "## Train, val, test split"
      ]
    },
    {
      "cell_type": "code",
      "metadata": {
        "id": "HtdUY9V4rM84",
        "colab_type": "code",
        "colab": {}
      },
      "source": [
        "train =[96, 116, 44, 21, 144, 65, 208, 108, 132, 115, 28, 72, 122, 80, 19, 197, 195, 161, 10, 112, 129, 166, 54, 151, 34, 87, 27, 142, 14, 86, 104, 66, 90, 179, 43, 164, 29, 178, 79, 182, 71, 35, 173, 95, 26, 4, 160, 119, 52, 159, 25, 187, 126, 7, 186, 128, 155, 163, 57, 48, 174, 200, 131, 130, 53, 106, 150, 12, 103, 31, 93, 141, 183, 40, 49, 139, 55, 60, 201, 59, 42, 88, 176, 137, 193, 58, 143, 199, 32, 41, 83, 140, 46, 100, 120, 18, 24, 33, 30, 169, 85, 162, 148, 110, 63, 181, 171, 124, 38, 56, 156, 8, 191, 17, 168, 203, 13, 111, 177, 184, 207, 101, 73, 11, 1, 76, 84, 5, 6, 2, 202, 189, 51, 149, 152, 185, 136, 89, 134, 97, 167, 61, 109, 175, 107, 145, 157, 188, 77, 0, 209, 20, 47, 92, 102, 75, 113, 170, 9, 50, 39, 99, 127, 81, 154, 114, 16]\n",
        "val =[165, 192, 15, 180, 70, 196, 198, 194, 105, 118, 206, 205, 37, 146, 45, 153, 121, 62, 78, 98]\n",
        "test =[204, 138, 74, 67, 147, 22, 123, 64, 117, 94, 3, 82, 135, 91, 158, 36, 172, 69, 190]"
      ],
      "execution_count": null,
      "outputs": []
    },
    {
      "cell_type": "code",
      "metadata": {
        "id": "_k7Z81x1fYak",
        "colab_type": "code",
        "colab": {}
      },
      "source": [
        "# Load data: skip empty slices except for 5 each case\n",
        "\n",
        "def load_skip_empty(experiment, data_sort,data_list,saving_format):\n",
        "  data_array = np.zeros([1,128,128])\n",
        "  dataList = []\n",
        "  for i in data_list:\n",
        "    # Load scan or segmentation\n",
        "    data_loaded = np.load(DATA_PATH + experiment + data_sort + \"/case_{:05d}\".format(i)+\".npy\")\n",
        "    # Load segmentation \n",
        "    check = np.load(DATA_PATH + \"/Experiment_1/segmentation/case_{:05d}\".format(i)+\".npy\")\n",
        "    # Check for empty slices, save non-empty to list\n",
        "    countList=[]\n",
        "    for j in range(check.shape[0]):\n",
        "      if np.sum(check[j,:,:])!=0:\n",
        "        countList.append(j)\n",
        "    # Reshape along z-axis with non-empty slices +10\n",
        "    min_slice = min(countList) - 5\n",
        "    max_slice = max(countList) + 5\n",
        "    z,x,y = data_loaded.shape\n",
        "    data_loaded = data_loaded[min_slice:max_slice,:,:]\n",
        "    # Add to array\n",
        "    data_array = np.concatenate((data_array, data_loaded), axis=0)\n",
        "    print(\"Case\", i,'is loaded.')\n",
        "  data_array_r = data_array.reshape((data_array.shape[0],data_array.shape[1], data_array.shape[2],1))\n",
        "  return np.save(DATA_PATH + experiment + '/data_arrays' + saving_format, data_array_r)"
      ],
      "execution_count": null,
      "outputs": []
    },
    {
      "cell_type": "code",
      "metadata": {
        "id": "ECdFTGXGj-yl",
        "colab_type": "code",
        "colab": {}
      },
      "source": [
        "# Example of loading cases for experiment 1 and split them in train, validation and test set\n",
        "\n",
        "load_skip_empty('/Experiment_1', '/imaging', train, '/x_train')\n",
        "load_skip_empty('/Experiment_1','/segmentation', train, '/y_train')\n",
        "load_skip_empty('/Experiment_1','/imaging', val, '/x_val')\n",
        "load_skip_empty('/Experiment_1','/segmentation', val, '/y_val')\n",
        "load_skip_empty('/Experiment_1','/imaging', test, '/x_test')\n",
        "load_skip_empty('/Experiment_1','/segmentation', test, '/y_test')"
      ],
      "execution_count": null,
      "outputs": []
    },
    {
      "cell_type": "markdown",
      "metadata": {
        "id": "KLYuJt_JxCYl",
        "colab_type": "text"
      },
      "source": [
        "## Load data arrays"
      ]
    },
    {
      "cell_type": "code",
      "metadata": {
        "id": "9Bq7QiW8W22t",
        "colab_type": "code",
        "colab": {}
      },
      "source": [
        "def load_aug(data):\n",
        "  return np.load(data_path+data+'.npy')"
      ],
      "execution_count": null,
      "outputs": []
    },
    {
      "cell_type": "code",
      "metadata": {
        "id": "jnG7wczYWa3c",
        "colab_type": "code",
        "colab": {}
      },
      "source": [
        "# Load data arrays - Experiment 4\n",
        "\n",
        "x_train= np.load(DATA_PATH +'/Experiment_2/data_arrays/x_train.npy')\n",
        "y_train = np.load(DATA_PATH +'/Experiment_1/data_arrays/y_train.npy')\n",
        "\n",
        "x_val= np.load(DATA_PATH +'/Experiment_2/data_arrays/x_val.npy')\n",
        "y_val = np.load(DATA_PATH +'/Experiment_1/data_arrays/y_val.npy')\n",
        "\n",
        "x_def = load_aug('x_deform')\n",
        "y_def = load_aug('y_deform')\n",
        "\n",
        "x_shift = load_aug('x_shift')\n",
        "y_shift = load_aug('y_shift')\n",
        "\n",
        "x_flip = load_aug('x_flip')\n",
        "y_flip = load_aug('y_flip')\n",
        "\n",
        "x_rot = load_aug('x_rot')\n",
        "y_rot = load_aug('y_rot')\n"
      ],
      "execution_count": null,
      "outputs": []
    },
    {
      "cell_type": "code",
      "metadata": {
        "id": "j97dZDcn-Tab",
        "colab_type": "code",
        "colab": {}
      },
      "source": [
        "x_train = np.concatenate((x_train, x_flip, x_rot, x_shift, x_def),axis=0)\n",
        "y_train = np.concatenate((x_train, y_flip, y_rot, y_shift, y_def),axis=0)"
      ],
      "execution_count": null,
      "outputs": []
    },
    {
      "cell_type": "code",
      "metadata": {
        "id": "JGWgbhIvZ-Zo",
        "colab_type": "code",
        "colab": {}
      },
      "source": [
        "# Load data arrays from drive - Experiment 3\n",
        "\n",
        "x_train = np.load((DATA_PATH +'/Experiment_3/data_arrays/x_train.npy')\n",
        "y_train = np.load((DATA_PATH +'/Experiment_1/data_arrays/y_train.npy')\n",
        "\n",
        "x_val = np.load((DATA_PATH +'/Experiment_3/data_arrays/x_val.npy')\n",
        "y_val = np.load((DATA_PATH +'/Experiment_1/data_arrays/y_val.npy')"
      ],
      "execution_count": null,
      "outputs": []
    },
    {
      "cell_type": "code",
      "metadata": {
        "id": "qYMVWwgIqJxP",
        "colab_type": "code",
        "colab": {}
      },
      "source": [
        "# Load data arrays from drive - Experiment 2\n",
        "\n",
        "x_train = np.load((DATA_PATH +'/Experiment_2/data_arrays/x_train.npy')\n",
        "y_train = np.load((DATA_PATH +'/Experiment_1/data_arrays/y_train.npy')\n",
        "\n",
        "x_val = np.load((DATA_PATH +'/Experiment_2/data_arrays/x_val.npy')\n",
        "y_val = np.load((DATA_PATH +'/Experiment_1/data_arrays/y_val.npy')"
      ],
      "execution_count": null,
      "outputs": []
    },
    {
      "cell_type": "code",
      "metadata": {
        "id": "vbEfs6M8sVXa",
        "colab_type": "code",
        "colab": {}
      },
      "source": [
        "# Load data arrays from drive - Experiment 2b\n",
        "\n",
        "x_train = np.load((DATA_PATH +'/Experiment_2/data_arrays/x_train.npy')\n",
        "y_train = np.load((DATA_PATH +'/Experiment_1/data_arrays/y_train.npy')\n",
        "\n",
        "x_val = np.load((DATA_PATH +'/Experiment_2/data_arrays/x_val.npy')\n",
        "y_val = np.load((DATA_PATH +'/Experiment_1/data_arrays/y_val.npy')"
      ],
      "execution_count": null,
      "outputs": []
    },
    {
      "cell_type": "code",
      "metadata": {
        "id": "FmAHSLgSxBxf",
        "colab_type": "code",
        "colab": {}
      },
      "source": [
        "# Load data arrays from drive - Experiment 1\n",
        "\n",
        "x_train = np.load((DATA_PATH +'/Experiment_1/data_arrays/x_train.npy')\n",
        "y_train = np.load(DATA_PATH +'/Experiment_1/data_arrays/y_train.npy')\n",
        "\n",
        "x_val = np.load((DATA_PATH +'/Experiment_1/data_arrays/x_val.npy')\n",
        "y_val = np.load((DATA_PATH +'/Experiment_1/data_arrays/y_val.npy')"
      ],
      "execution_count": null,
      "outputs": []
    },
    {
      "cell_type": "markdown",
      "metadata": {
        "id": "u2eFX9YeyNrP",
        "colab_type": "text"
      },
      "source": [
        "# Define callbacks"
      ]
    },
    {
      "cell_type": "code",
      "metadata": {
        "id": "0_J_2zo15uHZ",
        "colab_type": "code",
        "colab": {}
      },
      "source": [
        "# Define which model to run which experiment on\n",
        "test_model = '/unet'\n",
        "test_experiment = '/Results_exp4'\n",
        "\n",
        "log_dir = DATA_PATH+test_model+test_experiment + datetime.datetime.now().strftime(\"%Y-%m-%d %H\")\n",
        "\n",
        "tensorboard_callback = TensorBoard(log_dir=log_dir, histogram_freq=1)\n",
        "\n",
        "weight_saver = ModelCheckpoint(log_dir + '/{epoch:03d}-{val_loss:.3f}.hdf5', \n",
        "                               monitor = 'val_loss',\n",
        "                               save_best_only = True, mode = 'min', save_weights_only = True)\n",
        "\n",
        "reduce_lr_on_plateau = ReduceLROnPlateau(monitor = 'val_loss', factor = 0.5, patience = 3, verbose = 1, \n",
        "                                          mode = 'min', cooldown = 2, min_lr = 1e-6)\n",
        "\n",
        "early = EarlyStopping(monitor = \"val_loss\", mode = \"min\", patience = 30)\n",
        "\n",
        "csv_logger = CSVLogger(log_dir+'/log.csv', append=True, separator=';')"
      ],
      "execution_count": null,
      "outputs": []
    },
    {
      "cell_type": "markdown",
      "metadata": {
        "id": "R2PprboNMyJr",
        "colab_type": "text"
      },
      "source": [
        "# Train model"
      ]
    },
    {
      "cell_type": "code",
      "metadata": {
        "id": "aYVY5CnpEqG6",
        "colab_type": "code",
        "colab": {
          "base_uri": "https://localhost:8080/",
          "height": 1000
        },
        "outputId": "3bb9ade8-0b21-43fc-fa90-ac6accbef209"
      },
      "source": [
        "# Experiment 4 - U-Net\n",
        "\n",
        "model = build_unet((128,128,1))\n",
        "model.compile(optimizer = Adam(lr = 1e-4), loss = create_weighted_binary_crossentropy, metrics = [dice_coef])\n",
        "model.load_weights(DATA_PATH+test_model+test_experiment + '/2020-06-14 17/026-0.108.hdf5')\n",
        "model.fit(x_train, y_train, batch_size=32, validation_data= (x_val, y_val),shuffle=True, epochs=200, verbose = 1, \n",
        "                          callbacks=[tensorboard_callback, weight_saver, reduce_lr_on_plateau, csv_logger, early])"
      ],
      "execution_count": null,
      "outputs": [
        {
          "output_type": "stream",
          "text": [
            "Train on 16533 samples, validate on 1529 samples\n",
            "Epoch 1/200\n",
            "16533/16533 [==============================] - 122s 7ms/step - loss: 0.0712 - dice_coef: 0.9332 - val_loss: 0.1072 - val_dice_coef: 0.9013\n",
            "Epoch 2/200\n",
            "16533/16533 [==============================] - 112s 7ms/step - loss: 0.0618 - dice_coef: 0.9418 - val_loss: 0.0970 - val_dice_coef: 0.9091\n",
            "Epoch 3/200\n",
            "16533/16533 [==============================] - 114s 7ms/step - loss: 0.0552 - dice_coef: 0.9480 - val_loss: 0.0920 - val_dice_coef: 0.9142\n",
            "Epoch 4/200\n",
            "16533/16533 [==============================] - 113s 7ms/step - loss: 0.0518 - dice_coef: 0.9511 - val_loss: 0.0948 - val_dice_coef: 0.9131\n",
            "Epoch 5/200\n",
            "16533/16533 [==============================] - 114s 7ms/step - loss: 0.0495 - dice_coef: 0.9533 - val_loss: 0.0992 - val_dice_coef: 0.9070\n",
            "Epoch 6/200\n",
            "16533/16533 [==============================] - 114s 7ms/step - loss: 0.0522 - dice_coef: 0.9508 - val_loss: 0.0960 - val_dice_coef: 0.9113\n",
            "\n",
            "Epoch 00006: ReduceLROnPlateau reducing learning rate to 4.999999873689376e-05.\n",
            "Epoch 7/200\n",
            "16533/16533 [==============================] - 114s 7ms/step - loss: 0.0442 - dice_coef: 0.9582 - val_loss: 0.0947 - val_dice_coef: 0.9125\n",
            "Epoch 8/200\n",
            "16533/16533 [==============================] - 114s 7ms/step - loss: 0.0422 - dice_coef: 0.9601 - val_loss: 0.0910 - val_dice_coef: 0.9163\n",
            "Epoch 9/200\n",
            "16533/16533 [==============================] - 114s 7ms/step - loss: 0.0409 - dice_coef: 0.9614 - val_loss: 0.0915 - val_dice_coef: 0.9161\n",
            "Epoch 10/200\n",
            "16533/16533 [==============================] - 114s 7ms/step - loss: 0.0402 - dice_coef: 0.9620 - val_loss: 0.1015 - val_dice_coef: 0.9047\n",
            "Epoch 11/200\n",
            "16533/16533 [==============================] - 114s 7ms/step - loss: 0.0395 - dice_coef: 0.9627 - val_loss: 0.0927 - val_dice_coef: 0.9151\n",
            "\n",
            "Epoch 00011: ReduceLROnPlateau reducing learning rate to 2.499999936844688e-05.\n",
            "Epoch 12/200\n",
            "16533/16533 [==============================] - 114s 7ms/step - loss: 0.0373 - dice_coef: 0.9647 - val_loss: 0.0965 - val_dice_coef: 0.9113\n",
            "Epoch 13/200\n",
            "16533/16533 [==============================] - 114s 7ms/step - loss: 0.0364 - dice_coef: 0.9656 - val_loss: 0.0898 - val_dice_coef: 0.9179\n",
            "Epoch 14/200\n",
            "16533/16533 [==============================] - 113s 7ms/step - loss: 0.0357 - dice_coef: 0.9663 - val_loss: 0.0901 - val_dice_coef: 0.9178\n",
            "Epoch 15/200\n",
            "16533/16533 [==============================] - 113s 7ms/step - loss: 0.0350 - dice_coef: 0.9669 - val_loss: 0.0896 - val_dice_coef: 0.9183\n",
            "Epoch 16/200\n",
            "16533/16533 [==============================] - 113s 7ms/step - loss: 0.0343 - dice_coef: 0.9676 - val_loss: 0.0910 - val_dice_coef: 0.9172\n",
            "Epoch 17/200\n",
            "16533/16533 [==============================] - 114s 7ms/step - loss: 0.0338 - dice_coef: 0.9681 - val_loss: 0.0908 - val_dice_coef: 0.9172\n",
            "Epoch 18/200\n",
            "16533/16533 [==============================] - 113s 7ms/step - loss: 0.0334 - dice_coef: 0.9684 - val_loss: 0.0906 - val_dice_coef: 0.9176\n",
            "\n",
            "Epoch 00018: ReduceLROnPlateau reducing learning rate to 1.249999968422344e-05.\n",
            "Epoch 19/200\n",
            "16533/16533 [==============================] - 113s 7ms/step - loss: 0.0322 - dice_coef: 0.9696 - val_loss: 0.0907 - val_dice_coef: 0.9177\n",
            "Epoch 20/200\n",
            "16533/16533 [==============================] - 113s 7ms/step - loss: 0.0316 - dice_coef: 0.9702 - val_loss: 0.0919 - val_dice_coef: 0.9162\n",
            "Epoch 21/200\n",
            "16533/16533 [==============================] - 114s 7ms/step - loss: 0.0313 - dice_coef: 0.9704 - val_loss: 0.0914 - val_dice_coef: 0.9167\n",
            "Epoch 22/200\n",
            "16533/16533 [==============================] - 114s 7ms/step - loss: 0.0310 - dice_coef: 0.9707 - val_loss: 0.0912 - val_dice_coef: 0.9179\n",
            "\n",
            "Epoch 00022: ReduceLROnPlateau reducing learning rate to 6.24999984211172e-06.\n",
            "Epoch 23/200\n",
            "16533/16533 [==============================] - 114s 7ms/step - loss: 0.0303 - dice_coef: 0.9714 - val_loss: 0.0910 - val_dice_coef: 0.9176\n",
            "Epoch 24/200\n",
            "16533/16533 [==============================] - 114s 7ms/step - loss: 0.0300 - dice_coef: 0.9717 - val_loss: 0.0908 - val_dice_coef: 0.9180\n",
            "Epoch 25/200\n",
            "16533/16533 [==============================] - 113s 7ms/step - loss: 0.0298 - dice_coef: 0.9719 - val_loss: 0.0917 - val_dice_coef: 0.9174\n",
            "Epoch 26/200\n",
            "16533/16533 [==============================] - 114s 7ms/step - loss: 0.0296 - dice_coef: 0.9721 - val_loss: 0.0918 - val_dice_coef: 0.9175\n",
            "\n",
            "Epoch 00026: ReduceLROnPlateau reducing learning rate to 3.12499992105586e-06.\n",
            "Epoch 27/200\n",
            "16533/16533 [==============================] - 114s 7ms/step - loss: 0.0292 - dice_coef: 0.9725 - val_loss: 0.0916 - val_dice_coef: 0.9176\n",
            "Epoch 28/200\n",
            "16533/16533 [==============================] - 114s 7ms/step - loss: 0.0291 - dice_coef: 0.9726 - val_loss: 0.0920 - val_dice_coef: 0.9172\n",
            "Epoch 29/200\n",
            "16533/16533 [==============================] - 114s 7ms/step - loss: 0.0290 - dice_coef: 0.9727 - val_loss: 0.0922 - val_dice_coef: 0.9171\n",
            "Epoch 30/200\n",
            "16533/16533 [==============================] - 113s 7ms/step - loss: 0.0289 - dice_coef: 0.9728 - val_loss: 0.0920 - val_dice_coef: 0.9173\n",
            "\n",
            "Epoch 00030: ReduceLROnPlateau reducing learning rate to 1.56249996052793e-06.\n",
            "Epoch 31/200\n",
            "16533/16533 [==============================] - 113s 7ms/step - loss: 0.0287 - dice_coef: 0.9730 - val_loss: 0.0920 - val_dice_coef: 0.9173\n",
            "Epoch 32/200\n",
            "16533/16533 [==============================] - 114s 7ms/step - loss: 0.0286 - dice_coef: 0.9731 - val_loss: 0.0921 - val_dice_coef: 0.9173\n",
            "Epoch 33/200\n",
            "16533/16533 [==============================] - 113s 7ms/step - loss: 0.0285 - dice_coef: 0.9732 - val_loss: 0.0925 - val_dice_coef: 0.9171\n",
            "Epoch 34/200\n",
            "16533/16533 [==============================] - 113s 7ms/step - loss: 0.0285 - dice_coef: 0.9732 - val_loss: 0.0922 - val_dice_coef: 0.9173\n",
            "\n",
            "Epoch 00034: ReduceLROnPlateau reducing learning rate to 1e-06.\n",
            "Epoch 35/200\n",
            "16533/16533 [==============================] - 114s 7ms/step - loss: 0.0285 - dice_coef: 0.9732 - val_loss: 0.0923 - val_dice_coef: 0.9173\n",
            "Epoch 36/200\n",
            "16533/16533 [==============================] - 113s 7ms/step - loss: 0.0283 - dice_coef: 0.9734 - val_loss: 0.0922 - val_dice_coef: 0.9173\n",
            "Epoch 37/200\n",
            "16533/16533 [==============================] - 113s 7ms/step - loss: 0.0283 - dice_coef: 0.9734 - val_loss: 0.0923 - val_dice_coef: 0.9172\n",
            "Epoch 38/200\n",
            "16533/16533 [==============================] - 113s 7ms/step - loss: 0.0283 - dice_coef: 0.9734 - val_loss: 0.0924 - val_dice_coef: 0.9171\n",
            "Epoch 39/200\n",
            "16533/16533 [==============================] - 113s 7ms/step - loss: 0.0284 - dice_coef: 0.9733 - val_loss: 0.0924 - val_dice_coef: 0.9172\n",
            "Epoch 40/200\n",
            "16533/16533 [==============================] - 113s 7ms/step - loss: 0.0283 - dice_coef: 0.9734 - val_loss: 0.0925 - val_dice_coef: 0.9172\n",
            "Epoch 41/200\n",
            "16533/16533 [==============================] - 113s 7ms/step - loss: 0.0282 - dice_coef: 0.9734 - val_loss: 0.0925 - val_dice_coef: 0.9172\n",
            "Epoch 42/200\n",
            "16533/16533 [==============================] - 113s 7ms/step - loss: 0.0282 - dice_coef: 0.9735 - val_loss: 0.0924 - val_dice_coef: 0.9172\n",
            "Epoch 43/200\n",
            "16533/16533 [==============================] - 114s 7ms/step - loss: 0.0281 - dice_coef: 0.9736 - val_loss: 0.0925 - val_dice_coef: 0.9171\n",
            "Epoch 44/200\n",
            "16533/16533 [==============================] - 113s 7ms/step - loss: 0.0281 - dice_coef: 0.9736 - val_loss: 0.0925 - val_dice_coef: 0.9171\n",
            "Epoch 45/200\n",
            "16533/16533 [==============================] - 113s 7ms/step - loss: 0.0281 - dice_coef: 0.9735 - val_loss: 0.0925 - val_dice_coef: 0.9173\n"
          ],
          "name": "stdout"
        },
        {
          "output_type": "execute_result",
          "data": {
            "text/plain": [
              "<keras.callbacks.callbacks.History at 0x7f2a4ae9ff98>"
            ]
          },
          "metadata": {
            "tags": []
          },
          "execution_count": 29
        }
      ]
    },
    {
      "cell_type": "markdown",
      "metadata": {
        "id": "i6IX1IO7WygE",
        "colab_type": "text"
      },
      "source": [
        "# Predict output"
      ]
    },
    {
      "cell_type": "markdown",
      "metadata": {
        "id": "UGXV9CmecWI4",
        "colab_type": "text"
      },
      "source": [
        "All predictions are made on the test set equally processed as the train and validation set."
      ]
    },
    {
      "cell_type": "markdown",
      "metadata": {
        "id": "B6jVl636Rq5x",
        "colab_type": "text"
      },
      "source": [
        "### Experiment 4"
      ]
    },
    {
      "cell_type": "code",
      "metadata": {
        "id": "xswJjHvUQAtK",
        "colab_type": "code",
        "colab": {}
      },
      "source": [
        "model = build_unet((128,128,1))\n",
        "model.load_weights(DATA_PATH+test_model+test_experiment + '/2020-06-20 09/015-0.090.hdf5')\n",
        "model.compile(optimizer = Adam(lr =  1e-06), loss = create_weighted_binary_crossentropy, metrics = [dice_coef])\n",
        "pred_4 = model.predict(x_test)\n",
        "np.save(DATA_PATH+test_model+test_experiment+'/prediction',pred_4)"
      ],
      "execution_count": null,
      "outputs": []
    },
    {
      "cell_type": "code",
      "metadata": {
        "id": "WTsKCMCqev9-",
        "colab_type": "code",
        "colab": {
          "base_uri": "https://localhost:8080/",
          "height": 32
        },
        "outputId": "d9bf2d88-3b2d-4e60-816d-fe07b1aad453"
      },
      "source": [
        "# Dice Coefficient on the model trained with augmented data of Stage 1\n",
        "\n",
        "dice_coef_test(y_test,pred_4)"
      ],
      "execution_count": null,
      "outputs": [
        {
          "output_type": "execute_result",
          "data": {
            "text/plain": [
              "0.9346971614031981"
            ]
          },
          "metadata": {
            "tags": []
          },
          "execution_count": 11
        }
      ]
    },
    {
      "cell_type": "markdown",
      "metadata": {
        "id": "NGDBBpAxYdsl",
        "colab_type": "text"
      },
      "source": [
        "### Experiment 3"
      ]
    },
    {
      "cell_type": "code",
      "metadata": {
        "id": "cT_guI0PZdXC",
        "colab_type": "code",
        "colab": {
          "base_uri": "https://localhost:8080/",
          "height": 32
        },
        "outputId": "334bb223-1395-4a6c-ae01-ce23d0e6aa33"
      },
      "source": [
        "model = build_unet((128,128,1))\n",
        "model.load_weights(DATA_PATH+test_model+test_experiment +'/2020-06-18 10/009-0.097.hdf5')\n",
        "model.compile(optimizer = Adam(lr = 1.25e-05), loss = create_weighted_binary_crossentropy, metrics = [dice_coef])\n",
        "pred_3 = model.predict(x_test)\n",
        "\n",
        "dice_coef_test(y_test,pred_3)"
      ],
      "execution_count": null,
      "outputs": [
        {
          "output_type": "execute_result",
          "data": {
            "text/plain": [
              "0.8796359286831191"
            ]
          },
          "metadata": {
            "tags": []
          },
          "execution_count": 20
        }
      ]
    },
    {
      "cell_type": "code",
      "metadata": {
        "id": "QxTw3aWTZe-V",
        "colab_type": "code",
        "colab": {
          "base_uri": "https://localhost:8080/",
          "height": 609
        },
        "outputId": "482f40ec-f4cf-4287-ea9f-3a61946dc79a"
      },
      "source": [
        "# Example of predicted output and the ground truth\n",
        "\n",
        "plt.figure(figsize=(15,10))\n",
        "\n",
        "plt.subplot(2,3,1)\n",
        "plt.imshow(y_test[46,:,:,-1])\n",
        "\n",
        "plt.subplot(2,3,2)\n",
        "plt.imshow(pred_3[46,:,:,-1])\n",
        "\n",
        "plt.subplot(2,3,3)\n",
        "plt.imshow(x_test[46,:,:,-1])\n",
        "\n",
        "plt.subplot(2,3,4)\n",
        "plt.imshow(y_test[588,:,:,-1])\n",
        "\n",
        "plt.subplot(2,3,5)\n",
        "plt.imshow(pred_3[588,:,:,-1])\n",
        "\n",
        "plt.subplot(2,3,6)\n",
        "plt.imshow(x_test[588,:,:,-1])"
      ],
      "execution_count": null,
      "outputs": [
        {
          "output_type": "execute_result",
          "data": {
            "text/plain": [
              "<matplotlib.image.AxesImage at 0x7ff9170e0860>"
            ]
          },
          "metadata": {
            "tags": []
          },
          "execution_count": 23
        },
        {
          "output_type": "display_data",
          "data": {
            "image/png": "[encoded data removed]",
            "text/plain": [
              "<Figure size 1080x720 with 6 Axes>"
            ]
          },
          "metadata": {
            "tags": [],
            "needs_background": "light"
          }
        }
      ]
    },
    {
      "cell_type": "markdown",
      "metadata": {
        "id": "p_MO0mCBZydR",
        "colab_type": "text"
      },
      "source": [
        "### Experiment 2"
      ]
    },
    {
      "cell_type": "code",
      "metadata": {
        "id": "un903__IZ6EO",
        "colab_type": "code",
        "colab": {
          "base_uri": "https://localhost:8080/",
          "height": 32
        },
        "outputId": "0fcb68a1-5d00-415e-9135-6bfdde7477d2"
      },
      "source": [
        "model = build_unet((128,128,1))\n",
        "model.load_weights(DATA_PATH+test_model+test_experiment + '/2020-06-17 14/054-0.174.hdf5')\n",
        "model.compile(optimizer = Adam(lr = 1.25e-05), loss = create_weighted_binary_crossentropy, metrics = [dice_coef])\n",
        "pred_2b = model.predict(x_test)\n",
        "\n",
        "dice_coef_test(y_test,pred_2b)"
      ],
      "execution_count": null,
      "outputs": [
        {
          "output_type": "execute_result",
          "data": {
            "text/plain": [
              "0.8288762892907959"
            ]
          },
          "metadata": {
            "tags": []
          },
          "execution_count": 26
        }
      ]
    },
    {
      "cell_type": "markdown",
      "metadata": {
        "id": "KiV93Y3opXgD",
        "colab_type": "text"
      },
      "source": [
        "### Experiment 2b"
      ]
    },
    {
      "cell_type": "code",
      "metadata": {
        "id": "PdZ4g5HFKR5K",
        "colab_type": "code",
        "colab": {
          "base_uri": "https://localhost:8080/",
          "height": 32
        },
        "outputId": "bfa2f77a-e707-45c4-bef5-06caa0d8e77a"
      },
      "source": [
        "model = build_unet((128,128,1))\n",
        "model.load_weights(DATA_PATH+test_model+test_experiment +'/2020-06-14 17/026-0.108.hdf5')\n",
        "model.compile(optimizer = Adam(lr = 1e-4), loss = create_weighted_binary_crossentropy, metrics = [dice_coef])\n",
        "pred_2 = model.predict(x_test)\n",
        "\n",
        "dice_coef_test(y_test,pred_2)"
      ],
      "execution_count": null,
      "outputs": [
        {
          "output_type": "execute_result",
          "data": {
            "text/plain": [
              "0.9004754507886081"
            ]
          },
          "metadata": {
            "tags": []
          },
          "execution_count": 12
        }
      ]
    },
    {
      "cell_type": "markdown",
      "metadata": {
        "id": "8B3foxQtpUE8",
        "colab_type": "text"
      },
      "source": [
        "### Experiment 1"
      ]
    },
    {
      "cell_type": "code",
      "metadata": {
        "id": "aYc4SmRZlCj3",
        "colab_type": "code",
        "colab": {
          "base_uri": "https://localhost:8080/",
          "height": 32
        },
        "outputId": "cb78cc3a-ecb0-4df9-ec42-cd439daf5eee"
      },
      "source": [
        "model = build_unet((128,128,1))\n",
        "model.load_weights(DATA_PATH+test_model+test_experiment + '/2020-06-26 08/017-0.117.hdf5')\n",
        "model.compile(optimizer = Adam(lr = 1e-6), loss = create_weighted_binary_crossentropy, metrics = [dice_coef])\n",
        "pred_1 = model.predict(x_test)\n",
        "\n",
        "dice_coef_test(y_test,pred_1)"
      ],
      "execution_count": null,
      "outputs": [
        {
          "output_type": "execute_result",
          "data": {
            "text/plain": [
              "0.884654005125076"
            ]
          },
          "metadata": {
            "tags": []
          },
          "execution_count": 9
        }
      ]
    }
  ]
}